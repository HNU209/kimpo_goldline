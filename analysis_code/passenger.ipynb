{
 "cells": [
  {
   "cell_type": "code",
   "execution_count": 37,
   "metadata": {},
   "outputs": [],
   "source": [
    "from datetime import datetime\n",
    "from tqdm import tqdm\n",
    "import pandas as pd\n",
    "import json\n",
    "\n",
    "try:\n",
    "    from routing_module import *\n",
    "except:\n",
    "    import sys\n",
    "    sys.path.append('/home/happy956/')\n",
    "    from routing_module import *"
   ]
  },
  {
   "cell_type": "code",
   "execution_count": 38,
   "metadata": {},
   "outputs": [],
   "source": [
    "random_passenger = pd.read_csv('data/passenger/subway_random_passenger.csv')\n",
    "kimpo_direction_schedule = pd.read_csv('data/subway/kimpo_schedule.csv', encoding='cp949')\n",
    "yongchon_direction_schedule = pd.read_csv('data/subway/yongchon_schedule.csv', encoding='cp949')\n",
    "\n",
    "kimpo_direction_schedule['direction'] = 1\n",
    "yongchon_direction_schedule['direction'] = 2"
   ]
  },
  {
   "attachments": {},
   "cell_type": "markdown",
   "metadata": {},
   "source": [
    "## 1. subway passenger"
   ]
  },
  {
   "attachments": {},
   "cell_type": "markdown",
   "metadata": {},
   "source": [
    "### 1-1. preprocessing time columns in subway schedule"
   ]
  },
  {
   "cell_type": "code",
   "execution_count": 39,
   "metadata": {},
   "outputs": [],
   "source": [
    "def date_preprocessing(df):\n",
    "    df['출발시간'] = pd.to_datetime(df['출발시간'])\n",
    "    df['도착시간'] = pd.to_datetime(df['도착시간'])\n",
    "    \n",
    "    start_init_time = df.loc[0, '출발시간']\n",
    "    end_init_time = df.loc[0, '도착시간']\n",
    "    \n",
    "    data = []\n",
    "    for _, row in df.iterrows():\n",
    "        if row['출발시간'] < start_init_time:\n",
    "            row['출발시간'] += pd.to_timedelta('1 day')\n",
    "            row['도착시간'] += pd.to_timedelta('1 day')\n",
    "        \n",
    "        elif row['도착시간'] < end_init_time:\n",
    "            row['도착시간'] += pd.to_timedelta('1 day')\n",
    "        \n",
    "        data.append(row)\n",
    "        \n",
    "    df = pd.DataFrame(data)\n",
    "    return df"
   ]
  },
  {
   "cell_type": "code",
   "execution_count": 40,
   "metadata": {},
   "outputs": [],
   "source": [
    "yongchon_direction_schedule = date_preprocessing(yongchon_direction_schedule)\n",
    "kimpo_direction_schedule = date_preprocessing(kimpo_direction_schedule)"
   ]
  },
  {
   "cell_type": "code",
   "execution_count": 41,
   "metadata": {},
   "outputs": [],
   "source": [
    "subway_schedule = pd.concat([yongchon_direction_schedule, kimpo_direction_schedule], axis=0)\n",
    "subway_schedule = subway_schedule.reset_index(drop=True)"
   ]
  },
  {
   "cell_type": "code",
   "execution_count": 42,
   "metadata": {},
   "outputs": [
    {
     "data": {
      "text/plain": [
       "datetime.datetime(2023, 6, 8, 0, 0)"
      ]
     },
     "execution_count": 42,
     "metadata": {},
     "output_type": "execute_result"
    }
   ],
   "source": [
    "start_day = subway_schedule.loc[0, '출발시간']\n",
    "init_dt_lst = [start_day.year, start_day.month, start_day.day, 0, 0, 0]\n",
    "init_dt = datetime(*init_dt_lst)\n",
    "init_dt"
   ]
  },
  {
   "attachments": {},
   "cell_type": "markdown",
   "metadata": {},
   "source": [
    "### 1-2. passenger trip & timestamp"
   ]
  },
  {
   "cell_type": "code",
   "execution_count": 43,
   "metadata": {},
   "outputs": [
    {
     "name": "stderr",
     "output_type": "stream",
     "text": [
      "100%|██████████| 9268/9268 [00:56<00:00, 164.18it/s]\n"
     ]
    }
   ],
   "source": [
    "total_data = []\n",
    "evaluation = {\n",
    "    'waiting_time': 0,\n",
    "    'walking_time': 0,\n",
    "    'moving_time': 0,\n",
    "}\n",
    "\n",
    "for idx, row in tqdm(random_passenger.iterrows(), total=len(random_passenger)):\n",
    "    data = row.to_dict()\n",
    "    \n",
    "    start_time = data['start_time']\n",
    "    start_station, end_station = data['start_station'], data['end_station']\n",
    "    start_station = '사우' if '사우' in start_station else start_station\n",
    "    end_station = '사우' if '사우' in end_station else end_station\n",
    "    direction = data['direction']\n",
    "    \n",
    "    ### walking to start station ###\n",
    "    start_lat, start_lon = data['start_lat'], data['start_lon']\n",
    "    start_station_lat, start_station_lon = data['start_station_lat'], data['start_station_lon']\n",
    "    \n",
    "    routes, duration, distance = osrm_get_route((start_lon, start_lat, start_station_lon, start_station_lat), 'foot')\n",
    "    timestamps = get_timestamp(routes, start_time, duration)\n",
    "    evaluation['walking_time'] += duration\n",
    "    \n",
    "    total_data.append({\n",
    "        'id': idx,\n",
    "        'trip': list(map(lambda x: list(x[::-1]), routes)),\n",
    "        'timestamp': timestamps\n",
    "    })\n",
    "    \n",
    "    ### start bus ###\n",
    "    ## start bus schedule filter\n",
    "    cond1 = subway_schedule['출발정류장'] == start_station\n",
    "    cond2 = subway_schedule['direction'] == direction\n",
    "    filtered_bus_schedule = subway_schedule.loc[cond1 & cond2].copy()\n",
    "    filtered_bus_schedule['start_time_min'] = filtered_bus_schedule['출발시간'].map(lambda x: (x - init_dt).total_seconds() / 60)\n",
    "    filtered_bus_schedule = filtered_bus_schedule.sort_values('start_time_min')\n",
    "    \n",
    "    start_filtered_bus_schedule = filtered_bus_schedule[filtered_bus_schedule['start_time_min'] >= timestamps[-1]][:1].to_dict('records')[0]\n",
    "    subway_id = start_filtered_bus_schedule['철도_id']\n",
    "    evaluation['waiting_time'] += start_filtered_bus_schedule['start_time_min'] - timestamps[-1]\n",
    "    \n",
    "    ### end bus ###\n",
    "    ## end bus schedule filter\n",
    "    cond1 = subway_schedule['도착정류장'] == end_station\n",
    "    cond2 = subway_schedule['direction'] == direction\n",
    "    cond3 = subway_schedule['철도_id'] == subway_id\n",
    "    filtered_bus_schedule = subway_schedule.loc[cond1 & cond2 & cond3].copy()\n",
    "    filtered_bus_schedule['end_time_min'] = filtered_bus_schedule['도착시간'].map(lambda x: (x - init_dt).total_seconds() / 60)\n",
    "    filtered_bus_schedule = filtered_bus_schedule.sort_values('end_time_min')\n",
    "    \n",
    "    end_filtered_bus_schedule = filtered_bus_schedule[filtered_bus_schedule['end_time_min'] >= timestamps[-1]][:1].to_dict('records')[0]\n",
    "    \n",
    "    ### walking to end destination ###\n",
    "    start_time = end_filtered_bus_schedule['end_time_min']\n",
    "    end_station_lat, end_station_lon = data['end_station_lat'], data['end_station_lon']\n",
    "    end_lat, end_lon = data['end_lat'], data['end_lon']\n",
    "    \n",
    "    evaluation['moving_time'] += start_time - timestamps[-1]\n",
    "    \n",
    "    routes, duration, distance = osrm_get_route((end_station_lon, end_station_lat, end_lon, end_lat), 'foot')\n",
    "    timestamps = get_timestamp(routes, start_time, duration)\n",
    "    evaluation['walking_time'] += duration\n",
    "    \n",
    "    total_data.append({\n",
    "        'id': idx,\n",
    "        'trip': list(map(lambda x: list(x[::-1]), routes)),\n",
    "        'timestamp': timestamps\n",
    "    })"
   ]
  },
  {
   "cell_type": "code",
   "execution_count": 44,
   "metadata": {},
   "outputs": [
    {
     "data": {
      "text/plain": [
       "(2.0027352179542373, 2.945855632283145, 11.989140051791134)"
      ]
     },
     "execution_count": 44,
     "metadata": {},
     "output_type": "execute_result"
    }
   ],
   "source": [
    "evaluation['waiting_time'] / 9268, evaluation['walking_time'] / 9268, evaluation['moving_time'] / 9268"
   ]
  },
  {
   "cell_type": "code",
   "execution_count": 45,
   "metadata": {},
   "outputs": [],
   "source": [
    "with open('data/passenger/subway_passenger_trip.json', 'w') as f:\n",
    "    json.dump(total_data, f)"
   ]
  },
  {
   "attachments": {},
   "cell_type": "markdown",
   "metadata": {},
   "source": [
    "## 2. bus passenger - 버스 증차 전"
   ]
  },
  {
   "attachments": {},
   "cell_type": "markdown",
   "metadata": {},
   "source": [
    "### 2-1. preprocessing time columns in bus schedule"
   ]
  },
  {
   "cell_type": "code",
   "execution_count": 16,
   "metadata": {},
   "outputs": [],
   "source": [
    "bus_random_passenger = pd.read_csv('data/passenger/prev_bus_random_passenger.csv')\n",
    "bus_schedule = pd.read_csv('data/prev_bus/prev_bus_schedule.csv')\n",
    "bus_schedule = bus_schedule.rename(columns={'type': 'direction'})\n",
    "bus_schedule['bus_type'] = '70'"
   ]
  },
  {
   "cell_type": "code",
   "execution_count": 17,
   "metadata": {},
   "outputs": [
    {
     "data": {
      "text/plain": [
       "(664, 13)"
      ]
     },
     "execution_count": 17,
     "metadata": {},
     "output_type": "execute_result"
    }
   ],
   "source": [
    "bus_random_passenger.shape"
   ]
  },
  {
   "cell_type": "code",
   "execution_count": 19,
   "metadata": {},
   "outputs": [],
   "source": [
    "bus_schedule = date_preprocessing(bus_schedule)"
   ]
  },
  {
   "cell_type": "code",
   "execution_count": 20,
   "metadata": {},
   "outputs": [
    {
     "data": {
      "text/plain": [
       "datetime.datetime(2023, 6, 8, 0, 0)"
      ]
     },
     "execution_count": 20,
     "metadata": {},
     "output_type": "execute_result"
    }
   ],
   "source": [
    "start_day = bus_schedule.loc[0, '출발시간']\n",
    "init_dt_lst = [start_day.year, start_day.month, start_day.day, 0, 0, 0]\n",
    "init_dt = datetime(*init_dt_lst)\n",
    "init_dt"
   ]
  },
  {
   "attachments": {},
   "cell_type": "markdown",
   "metadata": {},
   "source": [
    "### 2-2. passenger trip & timestamp"
   ]
  },
  {
   "cell_type": "code",
   "execution_count": 21,
   "metadata": {},
   "outputs": [
    {
     "name": "stderr",
     "output_type": "stream",
     "text": [
      "100%|██████████| 664/664 [00:04<00:00, 163.93it/s]\n"
     ]
    }
   ],
   "source": [
    "total_data = []\n",
    "evaluation = {\n",
    "    'waiting_time': 0,\n",
    "    'walking_time': 0,\n",
    "    'moving_time': 0,\n",
    "}\n",
    "\n",
    "for idx, row in tqdm(bus_random_passenger.iterrows(), total=len(bus_random_passenger)):\n",
    "    data = row.to_dict()\n",
    "    \n",
    "    bus_type = str(data['bus_type'])\n",
    "    start_time = data['start_time']\n",
    "    start_station, end_station = data['start_station'], data['end_station']\n",
    "    direction = data['direction']\n",
    "    \n",
    "    ### walking to start station ###\n",
    "    start_lat, start_lon = data['start_lat'], data['start_lon']\n",
    "    start_station_lat, start_station_lon = data['start_station_lat'], data['start_station_lon']\n",
    "    \n",
    "    routes, duration, distance = osrm_get_route((start_lon, start_lat, start_station_lon, start_station_lat), 'foot')\n",
    "    timestamps = get_timestamp(routes, start_time, duration)\n",
    "    evaluation['walking_time'] += duration\n",
    "    \n",
    "    total_data.append({\n",
    "        'id': idx,\n",
    "        'trip': list(map(lambda x: list(x[::-1]), routes)),\n",
    "        'timestamp': timestamps\n",
    "    })\n",
    "    \n",
    "    ### start bus ###\n",
    "    ## start bus schedule filter\n",
    "    cond1 = bus_schedule['출발정류장'] == start_station\n",
    "    cond2 = bus_schedule['direction'] == direction\n",
    "    cond3 = bus_schedule['bus_type'] == bus_type\n",
    "    filtered_bus_schedule = bus_schedule.loc[cond1 & cond2 & cond3].copy()\n",
    "    filtered_bus_schedule['start_time_min'] = filtered_bus_schedule['출발시간'].map(lambda x: (x - init_dt).total_seconds() / 60)\n",
    "    filtered_bus_schedule = filtered_bus_schedule.sort_values('start_time_min')\n",
    "    \n",
    "    try:\n",
    "        start_filtered_bus_schedule = filtered_bus_schedule[filtered_bus_schedule['start_time_min'] >= timestamps[-1]][:1].to_dict('records')[0]\n",
    "        bus_id = start_filtered_bus_schedule['버스_id']\n",
    "        evaluation['waiting_time'] += start_filtered_bus_schedule['start_time_min'] - timestamps[-1]\n",
    "    except:\n",
    "        print(timestamps[-1])\n",
    "        print(start_station, end_station, direction)\n",
    "        display(filtered_bus_schedule)\n",
    "        raise\n",
    "        \n",
    "    ### end bus ###\n",
    "    ## end bus schedule filter\n",
    "    cond1 = bus_schedule['도착정류장'] == end_station\n",
    "    cond2 = bus_schedule['direction'] == direction\n",
    "    cond3 = bus_schedule['버스_id'] == bus_id\n",
    "    cond4 = bus_schedule['bus_type'] == bus_type\n",
    "    filtered_bus_schedule = bus_schedule.loc[cond1 & cond2 & cond3 & cond4].copy()\n",
    "    filtered_bus_schedule['end_time_min'] = filtered_bus_schedule['도착시간'].map(lambda x: (x - init_dt).total_seconds() / 60)\n",
    "    filtered_bus_schedule = filtered_bus_schedule.sort_values('end_time_min')\n",
    "    \n",
    "    end_filtered_bus_schedule = filtered_bus_schedule[filtered_bus_schedule['end_time_min'] >= timestamps[-1]][:1].to_dict('records')[0]\n",
    "    \n",
    "    ### walking to end destination ###\n",
    "    start_time = end_filtered_bus_schedule['end_time_min']\n",
    "    end_station_lat, end_station_lon = data['end_station_lat'], data['end_station_lon']\n",
    "    end_lat, end_lon = data['end_lat'], data['end_lon']\n",
    "    \n",
    "    evaluation['moving_time'] += start_time - timestamps[-1]\n",
    "    \n",
    "    routes, duration, distance = osrm_get_route((end_station_lon, end_station_lat, end_lon, end_lat), 'foot')\n",
    "    timestamps = get_timestamp(routes, start_time, duration)\n",
    "    evaluation['walking_time'] += duration\n",
    "    \n",
    "    total_data.append({\n",
    "        'id': idx,\n",
    "        'trip': list(map(lambda x: list(x[::-1]), routes)),\n",
    "        'timestamp': timestamps\n",
    "    })"
   ]
  },
  {
   "cell_type": "code",
   "execution_count": 23,
   "metadata": {},
   "outputs": [
    {
     "name": "stdout",
     "output_type": "stream",
     "text": [
      "5.782856425702803 3.799728915662638 16.289231927710834\n"
     ]
    }
   ],
   "source": [
    "print(evaluation['waiting_time'] / 664, evaluation['walking_time'] / 664, evaluation['moving_time'] / 664)"
   ]
  },
  {
   "cell_type": "code",
   "execution_count": 24,
   "metadata": {},
   "outputs": [],
   "source": [
    "with open('data/passenger/prev_bus_passenger_trip.json', 'w') as f:\n",
    "    json.dump(total_data, f)"
   ]
  },
  {
   "attachments": {},
   "cell_type": "markdown",
   "metadata": {},
   "source": [
    "### 3. bus passenger - 버스 증차 후"
   ]
  },
  {
   "attachments": {},
   "cell_type": "markdown",
   "metadata": {},
   "source": [
    "### 3-1. preprocessing time columns in bus schedule"
   ]
  },
  {
   "cell_type": "code",
   "execution_count": 46,
   "metadata": {},
   "outputs": [],
   "source": [
    "bus_random_passenger = pd.read_csv('data/passenger/bus_random_passenger.csv')\n",
    "bus70_schedule = pd.read_csv('data/bus/70_schedule.csv')\n",
    "bus70A_schedule = pd.read_csv('data/bus/70A_schedule.csv')\n",
    "bus70B_schedule = pd.read_csv('data/bus/70B_schedule.csv')\n",
    "\n",
    "bus70_schedule = bus70_schedule.rename(columns={'type': 'direction'})\n",
    "bus70A_schedule = bus70A_schedule.rename(columns={'type': 'direction'})\n",
    "bus70B_schedule = bus70B_schedule.rename(columns={'type': 'direction'})\n",
    " \n",
    "bus70_schedule['bus_type'] = '70'\n",
    "bus70A_schedule['bus_type'] = '70A'\n",
    "bus70B_schedule['bus_type'] = '70B'"
   ]
  },
  {
   "cell_type": "code",
   "execution_count": 47,
   "metadata": {},
   "outputs": [
    {
     "data": {
      "text/plain": [
       "((270, 11), (64, 11), (64, 11))"
      ]
     },
     "execution_count": 47,
     "metadata": {},
     "output_type": "execute_result"
    }
   ],
   "source": [
    "bus70_schedule.shape, bus70A_schedule.shape, bus70B_schedule.shape"
   ]
  },
  {
   "cell_type": "code",
   "execution_count": 48,
   "metadata": {},
   "outputs": [],
   "source": [
    "bus70_schedule = date_preprocessing(bus70_schedule)\n",
    "bus70A_schedule = date_preprocessing(bus70A_schedule)\n",
    "bus70B_schedule = date_preprocessing(bus70B_schedule)"
   ]
  },
  {
   "cell_type": "code",
   "execution_count": 49,
   "metadata": {},
   "outputs": [],
   "source": [
    "bus_schedule = pd.concat([bus70_schedule, bus70A_schedule, bus70B_schedule], axis=0)\n",
    "bus_schedule = bus_schedule.reset_index(drop=True)"
   ]
  },
  {
   "cell_type": "code",
   "execution_count": 50,
   "metadata": {},
   "outputs": [
    {
     "data": {
      "text/plain": [
       "datetime.datetime(2023, 6, 9, 0, 0)"
      ]
     },
     "execution_count": 50,
     "metadata": {},
     "output_type": "execute_result"
    }
   ],
   "source": [
    "start_day = bus_schedule.loc[0, '출발시간']\n",
    "init_dt_lst = [start_day.year, start_day.month, start_day.day, 0, 0, 0]\n",
    "init_dt = datetime(*init_dt_lst)\n",
    "init_dt"
   ]
  },
  {
   "attachments": {},
   "cell_type": "markdown",
   "metadata": {},
   "source": [
    "### 3-2. passenger trip & timestamp"
   ]
  },
  {
   "cell_type": "code",
   "execution_count": 51,
   "metadata": {},
   "outputs": [
    {
     "name": "stderr",
     "output_type": "stream",
     "text": [
      "100%|██████████| 655/655 [00:04<00:00, 160.65it/s]\n"
     ]
    }
   ],
   "source": [
    "total_data = []\n",
    "evaluation = {\n",
    "    '70': {\n",
    "        'waiting_time': 0,\n",
    "        'walking_time': 0,\n",
    "        'moving_time': 0,\n",
    "    },\n",
    "    '70A': {\n",
    "        'waiting_time': 0,\n",
    "        'walking_time': 0,\n",
    "        'moving_time': 0,\n",
    "    },\n",
    "    '70B': {\n",
    "        'waiting_time': 0,\n",
    "        'walking_time': 0,\n",
    "        'moving_time': 0,\n",
    "    }\n",
    "}\n",
    "\n",
    "for idx, row in tqdm(bus_random_passenger.iterrows(), total=len(bus_random_passenger)):\n",
    "    data = row.to_dict()\n",
    "    \n",
    "    bus_type = data['bus_type']\n",
    "    start_time = data['start_time']\n",
    "    start_station, end_station = data['start_station'], data['end_station']\n",
    "    direction = data['direction']\n",
    "    \n",
    "    ### walking to start station ###\n",
    "    start_lat, start_lon = data['start_lat'], data['start_lon']\n",
    "    start_station_lat, start_station_lon = data['start_station_lat'], data['start_station_lon']\n",
    "    \n",
    "    routes, duration, distance = osrm_get_route((start_lon, start_lat, start_station_lon, start_station_lat), 'foot')\n",
    "    timestamps = get_timestamp(routes, start_time, duration)\n",
    "    evaluation[bus_type]['walking_time'] += duration\n",
    "    \n",
    "    total_data.append({\n",
    "        'id': idx,\n",
    "        'trip': list(map(lambda x: list(x[::-1]), routes)),\n",
    "        'timestamp': timestamps\n",
    "    })\n",
    "    \n",
    "    ### start bus ###\n",
    "    ## start bus schedule filter\n",
    "    cond1 = bus_schedule['출발정류장'] == start_station\n",
    "    cond2 = bus_schedule['direction'] == direction\n",
    "    cond3 = bus_schedule['bus_type'] == bus_type\n",
    "    filtered_bus_schedule = bus_schedule.loc[cond1 & cond2 & cond3].copy()\n",
    "    filtered_bus_schedule['start_time_min'] = filtered_bus_schedule['출발시간'].map(lambda x: (x - init_dt).total_seconds() / 60)\n",
    "    filtered_bus_schedule = filtered_bus_schedule.sort_values('start_time_min')\n",
    "    \n",
    "    start_filtered_bus_schedule = filtered_bus_schedule[filtered_bus_schedule['start_time_min'] >= timestamps[-1]][:1].to_dict('records')[0]\n",
    "    bus_id = start_filtered_bus_schedule['버스_id']\n",
    "    evaluation[bus_type]['waiting_time'] += start_filtered_bus_schedule['start_time_min'] - timestamps[-1]\n",
    "    \n",
    "    ### end bus ###\n",
    "    ## end bus schedule filter\n",
    "    cond1 = bus_schedule['도착정류장'] == end_station\n",
    "    cond2 = bus_schedule['direction'] == direction\n",
    "    cond3 = bus_schedule['버스_id'] == bus_id\n",
    "    cond4 = bus_schedule['bus_type'] == bus_type\n",
    "    filtered_bus_schedule = bus_schedule.loc[cond1 & cond2 & cond3 & cond4].copy()\n",
    "    filtered_bus_schedule['end_time_min'] = filtered_bus_schedule['도착시간'].map(lambda x: (x - init_dt).total_seconds() / 60)\n",
    "    filtered_bus_schedule = filtered_bus_schedule.sort_values('end_time_min')\n",
    "    \n",
    "    end_filtered_bus_schedule = filtered_bus_schedule[filtered_bus_schedule['end_time_min'] >= timestamps[-1]][:1].to_dict('records')[0]\n",
    "    \n",
    "    ### walking to end destination ###\n",
    "    start_time = end_filtered_bus_schedule['end_time_min']\n",
    "    end_station_lat, end_station_lon = data['end_station_lat'], data['end_station_lon']\n",
    "    end_lat, end_lon = data['end_lat'], data['end_lon']\n",
    "    \n",
    "    evaluation[bus_type]['moving_time'] += start_time - timestamps[-1]\n",
    "    \n",
    "    routes, duration, distance = osrm_get_route((end_station_lon, end_station_lat, end_lon, end_lat), 'foot')\n",
    "    timestamps = get_timestamp(routes, start_time, duration)\n",
    "    evaluation[bus_type]['walking_time'] += duration\n",
    "    \n",
    "    total_data.append({\n",
    "        'id': idx,\n",
    "        'trip': list(map(lambda x: list(x[::-1]), routes)),\n",
    "        'timestamp': timestamps\n",
    "    })"
   ]
  },
  {
   "cell_type": "code",
   "execution_count": 52,
   "metadata": {},
   "outputs": [
    {
     "name": "stdout",
     "output_type": "stream",
     "text": [
      "2.7875419847328238 1.3651297709923664 7.047745547073791\n",
      "1.4059999999999997 1.1629770992366408 5.2124376590330845\n",
      "1.519562340966918 1.1721374045801525 6.025134860050893\n"
     ]
    }
   ],
   "source": [
    "print(evaluation['70']['waiting_time'] / 655, evaluation['70']['walking_time'] / 655, evaluation['70']['moving_time'] / 655)\n",
    "print(evaluation['70A']['waiting_time'] / 655, evaluation['70A']['walking_time'] / 655, evaluation['70A']['moving_time'] / 655)\n",
    "print(evaluation['70B']['waiting_time'] / 655, evaluation['70B']['walking_time'] / 655, evaluation['70B']['moving_time'] / 655)"
   ]
  },
  {
   "cell_type": "code",
   "execution_count": 35,
   "metadata": {},
   "outputs": [],
   "source": [
    "with open('data/passenger/bus_passenger_trip.json', 'w') as f:\n",
    "    json.dump(total_data, f)"
   ]
  },
  {
   "attachments": {},
   "cell_type": "markdown",
   "metadata": {},
   "source": [
    "### 4. bus passenger - 버스 전용차로"
   ]
  },
  {
   "attachments": {},
   "cell_type": "markdown",
   "metadata": {},
   "source": [
    "### 4-1. preprocessing time columns in bus schedule"
   ]
  },
  {
   "cell_type": "code",
   "execution_count": 53,
   "metadata": {},
   "outputs": [],
   "source": [
    "bus_random_passenger = pd.read_csv('data/passenger/bus_random_passenger.csv')\n",
    "bus70_schedule = pd.read_csv('data/bus/free_70_schedule.csv')\n",
    "bus70A_schedule = pd.read_csv('data/bus/free_70A_schedule.csv')\n",
    "bus70B_schedule = pd.read_csv('data/bus/free_70B_schedule.csv')\n",
    "\n",
    "bus70_schedule = bus70_schedule.rename(columns={'type': 'direction'})\n",
    "bus70A_schedule = bus70A_schedule.rename(columns={'type': 'direction'})\n",
    "bus70B_schedule = bus70B_schedule.rename(columns={'type': 'direction'})\n",
    " \n",
    "bus70_schedule['bus_type'] = '70'\n",
    "bus70A_schedule['bus_type'] = '70A'\n",
    "bus70B_schedule['bus_type'] = '70B'"
   ]
  },
  {
   "cell_type": "code",
   "execution_count": 54,
   "metadata": {},
   "outputs": [
    {
     "data": {
      "text/plain": [
       "((270, 11), (64, 11), (64, 11))"
      ]
     },
     "execution_count": 54,
     "metadata": {},
     "output_type": "execute_result"
    }
   ],
   "source": [
    "bus70_schedule.shape, bus70A_schedule.shape, bus70B_schedule.shape"
   ]
  },
  {
   "cell_type": "code",
   "execution_count": 55,
   "metadata": {},
   "outputs": [],
   "source": [
    "bus70_schedule = date_preprocessing(bus70_schedule)\n",
    "bus70A_schedule = date_preprocessing(bus70A_schedule)\n",
    "bus70B_schedule = date_preprocessing(bus70B_schedule)"
   ]
  },
  {
   "cell_type": "code",
   "execution_count": 56,
   "metadata": {},
   "outputs": [],
   "source": [
    "bus_schedule = pd.concat([bus70_schedule, bus70A_schedule, bus70B_schedule], axis=0)\n",
    "bus_schedule = bus_schedule.reset_index(drop=True)"
   ]
  },
  {
   "cell_type": "code",
   "execution_count": 57,
   "metadata": {},
   "outputs": [
    {
     "data": {
      "text/plain": [
       "datetime.datetime(2023, 6, 9, 0, 0)"
      ]
     },
     "execution_count": 57,
     "metadata": {},
     "output_type": "execute_result"
    }
   ],
   "source": [
    "start_day = bus_schedule.loc[0, '출발시간']\n",
    "init_dt_lst = [start_day.year, start_day.month, start_day.day, 0, 0, 0]\n",
    "init_dt = datetime(*init_dt_lst)\n",
    "init_dt"
   ]
  },
  {
   "attachments": {},
   "cell_type": "markdown",
   "metadata": {},
   "source": [
    "### 4-2. passenger trip & timestamp"
   ]
  },
  {
   "cell_type": "code",
   "execution_count": 58,
   "metadata": {},
   "outputs": [
    {
     "name": "stderr",
     "output_type": "stream",
     "text": [
      "100%|██████████| 655/655 [00:03<00:00, 166.15it/s]\n"
     ]
    }
   ],
   "source": [
    "total_data = []\n",
    "evaluation = {\n",
    "    '70': {\n",
    "        'waiting_time': 0,\n",
    "        'walking_time': 0,\n",
    "        'moving_time': 0,\n",
    "    },\n",
    "    '70A': {\n",
    "        'waiting_time': 0,\n",
    "        'walking_time': 0,\n",
    "        'moving_time': 0,\n",
    "    },\n",
    "    '70B': {\n",
    "        'waiting_time': 0,\n",
    "        'walking_time': 0,\n",
    "        'moving_time': 0,\n",
    "    }\n",
    "}\n",
    "\n",
    "for idx, row in tqdm(bus_random_passenger.iterrows(), total=len(bus_random_passenger)):\n",
    "    data = row.to_dict()\n",
    "    \n",
    "    bus_type = data['bus_type']\n",
    "    start_time = data['start_time']\n",
    "    start_station, end_station = data['start_station'], data['end_station']\n",
    "    direction = data['direction']\n",
    "    \n",
    "    ### walking to start station ###\n",
    "    start_lat, start_lon = data['start_lat'], data['start_lon']\n",
    "    start_station_lat, start_station_lon = data['start_station_lat'], data['start_station_lon']\n",
    "    \n",
    "    routes, duration, distance = osrm_get_route((start_lon, start_lat, start_station_lon, start_station_lat), 'foot')\n",
    "    timestamps = get_timestamp(routes, start_time, duration)\n",
    "    evaluation[bus_type]['walking_time'] += duration\n",
    "    \n",
    "    total_data.append({\n",
    "        'id': idx,\n",
    "        'trip': list(map(lambda x: list(x[::-1]), routes)),\n",
    "        'timestamp': timestamps\n",
    "    })\n",
    "    \n",
    "    ### start bus ###\n",
    "    ## start bus schedule filter\n",
    "    cond1 = bus_schedule['출발정류장'] == start_station\n",
    "    cond2 = bus_schedule['direction'] == direction\n",
    "    cond3 = bus_schedule['bus_type'] == bus_type\n",
    "    filtered_bus_schedule = bus_schedule.loc[cond1 & cond2 & cond3].copy()\n",
    "    filtered_bus_schedule['start_time_min'] = filtered_bus_schedule['출발시간'].map(lambda x: (x - init_dt).total_seconds() / 60)\n",
    "    filtered_bus_schedule = filtered_bus_schedule.sort_values('start_time_min')\n",
    "    \n",
    "    start_filtered_bus_schedule = filtered_bus_schedule[filtered_bus_schedule['start_time_min'] >= timestamps[-1]][:1].to_dict('records')[0]\n",
    "    bus_id = start_filtered_bus_schedule['버스_id']\n",
    "    evaluation[bus_type]['waiting_time'] += start_filtered_bus_schedule['start_time_min'] - timestamps[-1]\n",
    "    \n",
    "    ### end bus ###\n",
    "    ## end bus schedule filter\n",
    "    cond1 = bus_schedule['도착정류장'] == end_station\n",
    "    cond2 = bus_schedule['direction'] == direction\n",
    "    cond3 = bus_schedule['버스_id'] == bus_id\n",
    "    cond4 = bus_schedule['bus_type'] == bus_type\n",
    "    filtered_bus_schedule = bus_schedule.loc[cond1 & cond2 & cond3 & cond4].copy()\n",
    "    filtered_bus_schedule['end_time_min'] = filtered_bus_schedule['도착시간'].map(lambda x: (x - init_dt).total_seconds() / 60)\n",
    "    filtered_bus_schedule = filtered_bus_schedule.sort_values('end_time_min')\n",
    "    \n",
    "    end_filtered_bus_schedule = filtered_bus_schedule[filtered_bus_schedule['end_time_min'] >= timestamps[-1]][:1].to_dict('records')[0]\n",
    "    \n",
    "    ### walking to end destination ###\n",
    "    start_time = end_filtered_bus_schedule['end_time_min']\n",
    "    end_station_lat, end_station_lon = data['end_station_lat'], data['end_station_lon']\n",
    "    end_lat, end_lon = data['end_lat'], data['end_lon']\n",
    "    \n",
    "    evaluation[bus_type]['moving_time'] += start_time - timestamps[-1]\n",
    "    \n",
    "    routes, duration, distance = osrm_get_route((end_station_lon, end_station_lat, end_lon, end_lat), 'foot')\n",
    "    timestamps = get_timestamp(routes, start_time, duration)\n",
    "    evaluation[bus_type]['walking_time'] += duration\n",
    "    \n",
    "    total_data.append({\n",
    "        'id': idx,\n",
    "        'trip': list(map(lambda x: list(x[::-1]), routes)),\n",
    "        'timestamp': timestamps\n",
    "    })"
   ]
  },
  {
   "cell_type": "code",
   "execution_count": 59,
   "metadata": {},
   "outputs": [
    {
     "name": "stdout",
     "output_type": "stream",
     "text": [
      "2.6098829516539452 1.3651297709923664 6.151944020356234\n",
      "1.4491297709923678 1.1629770992366408 5.483201017811708\n",
      "1.582641221374044 1.1721374045801525 11.4330737913486\n"
     ]
    }
   ],
   "source": [
    "print(evaluation['70']['waiting_time'] / 655, evaluation['70']['walking_time'] / 655, evaluation['70']['moving_time'] / 655)\n",
    "print(evaluation['70A']['waiting_time'] / 655, evaluation['70A']['walking_time'] / 655, evaluation['70A']['moving_time'] / 655)\n",
    "print(evaluation['70B']['waiting_time'] / 655, evaluation['70B']['walking_time'] / 655, evaluation['70B']['moving_time'] / 655)"
   ]
  },
  {
   "cell_type": "code",
   "execution_count": null,
   "metadata": {},
   "outputs": [],
   "source": [
    "with open('data/passenger/bus_passenger_trip.json', 'w') as f:\n",
    "    json.dump(total_data, f)"
   ]
  }
 ],
 "metadata": {
  "kernelspec": {
   "display_name": "Python 3",
   "language": "python",
   "name": "python3"
  },
  "language_info": {
   "codemirror_mode": {
    "name": "ipython",
    "version": 3
   },
   "file_extension": ".py",
   "mimetype": "text/x-python",
   "name": "python",
   "nbconvert_exporter": "python",
   "pygments_lexer": "ipython3",
   "version": "3.8.10"
  },
  "orig_nbformat": 4
 },
 "nbformat": 4,
 "nbformat_minor": 2
}
