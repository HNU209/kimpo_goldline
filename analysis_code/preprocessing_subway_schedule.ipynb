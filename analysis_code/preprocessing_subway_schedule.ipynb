{
 "cells": [
  {
   "cell_type": "code",
   "execution_count": 3,
   "metadata": {},
   "outputs": [],
   "source": [
    "from tabula import read_pdf\n",
    "import pandas as pd\n",
    "import numpy as np\n",
    "import json"
   ]
  },
  {
   "attachments": {},
   "cell_type": "markdown",
   "metadata": {},
   "source": [
    "### 1. pdf -> csv : 1차 가공"
   ]
  },
  {
   "cell_type": "code",
   "execution_count": 4,
   "metadata": {},
   "outputs": [],
   "source": [
    "with open('data/subway/subway_station.json', 'r', encoding='utf8') as f:\n",
    "    station_lst = json.load(f)"
   ]
  },
  {
   "cell_type": "code",
   "execution_count": 5,
   "metadata": {},
   "outputs": [],
   "source": [
    "def preprocessing_station_data(station_lst, direction):\n",
    "    station_lst = list(filter(lambda x: x['direction'] == direction, station_lst))\n",
    "    \n",
    "    stations = []\n",
    "    for idx, station in enumerate(station_lst):\n",
    "        stations.append({\n",
    "            'station_name': station['start_station']\n",
    "        })\n",
    "        if idx == len(station_lst) - 1:\n",
    "            stations.append({\n",
    "                'station_name': station['end_station']\n",
    "            })\n",
    "    return stations"
   ]
  },
  {
   "cell_type": "code",
   "execution_count": 6,
   "metadata": {},
   "outputs": [],
   "source": [
    "station_reverse_f_lst = preprocessing_station_data(station_lst, 1)\n",
    "station_reverse_t_lst = preprocessing_station_data(station_lst, 2)"
   ]
  },
  {
   "cell_type": "code",
   "execution_count": 7,
   "metadata": {},
   "outputs": [
    {
     "data": {
      "text/plain": [
       "[{'station_name': '양촌'},\n",
       " {'station_name': '구래'},\n",
       " {'station_name': '마산'},\n",
       " {'station_name': '장기'},\n",
       " {'station_name': '운양'},\n",
       " {'station_name': '걸포북변'},\n",
       " {'station_name': '사우(김포시청)'},\n",
       " {'station_name': '풍무'},\n",
       " {'station_name': '고촌'},\n",
       " {'station_name': '김포공항'}]"
      ]
     },
     "execution_count": 7,
     "metadata": {},
     "output_type": "execute_result"
    }
   ],
   "source": [
    "station_reverse_f_lst"
   ]
  },
  {
   "cell_type": "code",
   "execution_count": 8,
   "metadata": {},
   "outputs": [],
   "source": [
    "kimpo_airport_lst = read_pdf('data/subway_schedule/김포공항행-변경열차시각표.pdf', pages='all', pandas_options={'header': None})\n",
    "yangchon_lst = read_pdf('data/subway_schedule/양촌행-변경열차시각표.pdf', pages='all', pandas_options={'header': None})"
   ]
  },
  {
   "cell_type": "code",
   "execution_count": 9,
   "metadata": {},
   "outputs": [],
   "source": [
    "## 김포공항행\n",
    "def kimpo_airport_extract_dataframe(df_lst):\n",
    "    total_data = {}\n",
    "    index = 0\n",
    "    \n",
    "    for i, df in enumerate(df_lst):\n",
    "        if i % 2 == 0:\n",
    "            ori_name = df[0].values[0]\n",
    "            name = station_reverse_f_lst[index]['station_name']\n",
    "            if ori_name in name:\n",
    "                index += 1\n",
    "            else: raise\n",
    "        else:\n",
    "            data = []\n",
    "            df = df.drop(0, axis=1)\n",
    "            for v in df.values:\n",
    "                data += v[pd.isna(v) == False].tolist()\n",
    "            total_data[name] = data\n",
    "    return data_to_df(total_data)\n",
    "\n",
    "## 행\n",
    "def yangchon_extract_dataframe(df_lst):\n",
    "    total_data = {}\n",
    "    index = 0\n",
    "    \n",
    "    for _, df in enumerate(df_lst):\n",
    "        name = station_reverse_t_lst[index]['station_name']\n",
    "        df = df.drop(0, axis=1)\n",
    "        \n",
    "        data = []\n",
    "        for v in df.values:\n",
    "            data += sum([r.split(' ') for r in v[pd.isna(v) == False].tolist()], [])\n",
    "        \n",
    "        total_data[name] = data\n",
    "        index += 1\n",
    "    return data_to_df(total_data)\n",
    "\n",
    "def data_to_df(data):\n",
    "    max_len = max(len(x) for x in data.values())\n",
    "    for k, v in data.items():\n",
    "        if max_len > len(v):\n",
    "            data[k] = np.concatenate([v, np.zeros(max_len - len(v), dtype=str)])\n",
    "    \n",
    "    total_df = pd.DataFrame(data)\n",
    "    return total_df"
   ]
  },
  {
   "cell_type": "code",
   "execution_count": 10,
   "metadata": {},
   "outputs": [],
   "source": [
    "kimpo_airport_extracted = kimpo_airport_extract_dataframe(kimpo_airport_lst)\n",
    "yangchon_extracted = yangchon_extract_dataframe(yangchon_lst)"
   ]
  },
  {
   "cell_type": "code",
   "execution_count": 11,
   "metadata": {},
   "outputs": [],
   "source": [
    "kimpo_airport_extracted.to_csv('data/subway_schedule/kimpo_airport_subway_schedule.csv', encoding='cp949', index=None)\n",
    "yangchon_extracted.to_csv('data/subway_schedule/yangchon_subway_schedule.csv', encoding='cp949', index=None)"
   ]
  },
  {
   "attachments": {},
   "cell_type": "markdown",
   "metadata": {},
   "source": [
    "### 2. pdf에서 추출한 시간표 전처리 : 2차 가공 (수작업)"
   ]
  },
  {
   "cell_type": "code",
   "execution_count": 12,
   "metadata": {},
   "outputs": [],
   "source": [
    "yongchon_df = pd.read_excel('data/subway_schedule/골드라인 운행시간표 정리_양촌행.xlsx', dtype=str)\n",
    "kimpo_df = pd.read_excel('data/subway_schedule/골드라인 운행시간표 정리_김포공항행.xlsx', dtype=str)"
   ]
  },
  {
   "cell_type": "code",
   "execution_count": 13,
   "metadata": {},
   "outputs": [],
   "source": [
    "def date_processing(df, direction):\n",
    "    df = df.apply(lambda x: x.map(lambda x: None if pd.isna(x) else x.split(' ')[-1]), axis=1)\n",
    "    col_names = df.columns[1:].tolist()\n",
    "    \n",
    "    total = {\n",
    "        '철도_id': [],\n",
    "        '출발시간': [],\n",
    "        '도착시간': [],\n",
    "        '출발정류장': [],\n",
    "        '도착정류장': [],\n",
    "    }\n",
    "    \n",
    "    for idx, row in df.iterrows():\n",
    "        row_data = row.to_dict()\n",
    "        \n",
    "        for i in range(len(col_names) - 1):\n",
    "            start_time = row_data[col_names[i]]\n",
    "            end_time = row_data[col_names[i + 1]]\n",
    "            \n",
    "            if pd.isna(start_time) or pd.isna(end_time): continue\n",
    "            total['철도_id'].append(row_data['철도번호_양촌행'])\n",
    "            total['출발시간'].append(row_data[col_names[i]])\n",
    "            total['도착시간'].append(row_data[col_names[i + 1]])\n",
    "            total['출발정류장'].append(col_names[i].split('_')[0])\n",
    "            total['도착정류장'].append(col_names[i + 1].split('_')[0])\n",
    "\n",
    "    df = pd.DataFrame(total)\n",
    "    df.to_csv(f'data/subway/{direction}_schedule.csv', index=None, encoding='cp949')\n",
    "\n",
    "date_processing(yongchon_df, 'yongchon')\n",
    "date_processing(kimpo_df, 'kimpo')"
   ]
  }
 ],
 "metadata": {
  "kernelspec": {
   "display_name": "Python 3",
   "language": "python",
   "name": "python3"
  },
  "language_info": {
   "codemirror_mode": {
    "name": "ipython",
    "version": 3
   },
   "file_extension": ".py",
   "mimetype": "text/x-python",
   "name": "python",
   "nbconvert_exporter": "python",
   "pygments_lexer": "ipython3",
   "version": "3.8.10"
  },
  "orig_nbformat": 4
 },
 "nbformat": 4,
 "nbformat_minor": 2
}
