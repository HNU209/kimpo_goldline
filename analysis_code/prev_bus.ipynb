{
 "cells": [
  {
   "cell_type": "code",
   "execution_count": 36,
   "metadata": {},
   "outputs": [],
   "source": [
    "import pandas as pd\n",
    "import requests\n",
    "import json\n",
    "\n",
    "try:\n",
    "    from routing_module import *\n",
    "except:\n",
    "    import sys\n",
    "    sys.path.append('/home/happy956/')\n",
    "    from routing_module import *"
   ]
  },
  {
   "attachments": {},
   "cell_type": "markdown",
   "metadata": {},
   "source": [
    "### 1. previous bus station"
   ]
  },
  {
   "cell_type": "code",
   "execution_count": 11,
   "metadata": {},
   "outputs": [],
   "source": [
    "prev_bus_station = [\n",
    "    {\n",
    "        'start_station': '걸포마루공원',\n",
    "        'end_station': '걸포북변역.국민연금공단',\n",
    "        'start_lat': 37.632597,\n",
    "        'start_lon': 126.7035,\n",
    "        'end_lat': 37.631468,\n",
    "        'end_lon': 126.705672,\n",
    "        'direction': 1\n",
    "    },\n",
    "    {\n",
    "        'start_station': '걸포북변역.국민연금공단',\n",
    "        'end_station': '풍무역',\n",
    "        'start_lat': 37.631468,\n",
    "        'start_lon': 126.705672,\n",
    "        'end_lat': 37.612075,\n",
    "        'end_lon': 126.732771,\n",
    "        'direction': 1\n",
    "    },\n",
    "    {\n",
    "        'start_station': '풍무역',\n",
    "        'end_station': '고촌역',\n",
    "        'start_lat': 37.612075,\n",
    "        'start_lon': 126.732771,\n",
    "        'end_lat': 37.6004,\n",
    "        'end_lon': 126.770752,\n",
    "        'direction': 1\n",
    "    },\n",
    "    {\n",
    "        'start_station': '고촌역',\n",
    "        'end_station': '개화역광역환승센터',\n",
    "        'start_lat': 37.6004,\n",
    "        'start_lon': 126.770752,\n",
    "        'end_lat': 37.578385,\n",
    "        'end_lon': 126.797538,\n",
    "        'direction': 1\n",
    "    },\n",
    "    {\n",
    "        'start_station': '개화역광역환승센터',\n",
    "        'end_station': '롯데몰.김포공항역',\n",
    "        'start_lat': 37.578385,\n",
    "        'start_lon': 126.797538,\n",
    "        'end_lat': 37.56234,\n",
    "        'end_lon': 126.803093,\n",
    "        'direction': 1\n",
    "    },\n",
    "    {   \n",
    "        'start_station': '롯데몰.김포공항역',\n",
    "        'end_station': '개화역광역환승센터',\n",
    "        'start_lat': 37.56234,\n",
    "        'start_lon': 126.803093,\n",
    "        'end_lat': 37.578229,\n",
    "        'end_lon': 126.79814,\n",
    "        'direction': 2\n",
    "    },\n",
    "    {   \n",
    "        'start_station': '개화역광역환승센터',\n",
    "        'end_station': '고촌역',\n",
    "        'start_lat': 37.578229,\n",
    "        'start_lon': 126.79814,\n",
    "        'end_lat': 37.601408,\n",
    "        'end_lon': 126.770414,\n",
    "        'direction': 2\n",
    "    },\n",
    "    {\n",
    "        'start_station': '고촌역',\n",
    "        'end_station': '풍무역',\n",
    "        'start_lat': 37.601408,\n",
    "        'start_lon': 126.770414,\n",
    "        'end_lat': 37.611934,\n",
    "        'end_lon': 126.734239,\n",
    "        'direction': 2\n",
    "    },\n",
    "    {\n",
    "        'start_station': '풍무역',\n",
    "        'end_station': '걸포북변역.국민연금공단',\n",
    "        'start_lat': 37.611934,\n",
    "        'start_lon': 126.734239,\n",
    "        'end_lat': 37.631736,\n",
    "        'end_lon': 126.70624,\n",
    "        'direction': 2\n",
    "    },\n",
    "    {   \n",
    "        'start_station': '롯데몰.김포공항역',\n",
    "        'end_station': '개화역광역환승센터',\n",
    "        'start_lat': 37.56234,\n",
    "        'start_lon': 126.803093,\n",
    "        'end_lat': 37.578229,\n",
    "        'end_lon': 126.79814,\n",
    "        'direction': 2\n",
    "    }\n",
    "]"
   ]
  },
  {
   "cell_type": "code",
   "execution_count": 16,
   "metadata": {},
   "outputs": [],
   "source": [
    "with open('data/prev_bus/prev_bus_station.json', 'w', encoding='utf8') as f:\n",
    "    json.dump(prev_bus_station, f, indent=4, ensure_ascii=False)"
   ]
  },
  {
   "attachments": {},
   "cell_type": "markdown",
   "metadata": {},
   "source": [
    "### 2. previous bus path"
   ]
  },
  {
   "cell_type": "code",
   "execution_count": 14,
   "metadata": {},
   "outputs": [],
   "source": [
    "naver_client_id = 'egr8gx3fw8'\n",
    "naver_client_secret = 'gwRtvccDkziFp9eQJh8Mg4wAhdjnvAbIs7wjGW3c'\n",
    "\n",
    "naver_api = 'https://naveropenapi.apigw.ntruss.com/map-direction/v1/driving?'\n",
    "naver_headers = {'X-NCP-APIGW-API-KEY-ID': naver_client_id, 'X-NCP-APIGW-API-KEY': naver_client_secret}"
   ]
  },
  {
   "cell_type": "code",
   "execution_count": 21,
   "metadata": {},
   "outputs": [],
   "source": [
    "def get_route():\n",
    "    with open(f'data/prev_bus/prev_bus_station.json', 'r', encoding='utf8') as f:\n",
    "        data = json.load(f)\n",
    "    \n",
    "    total_data = []\n",
    "    for d in data:\n",
    "        start_station, end_station = d['start_station'], d['end_station']\n",
    "        start_lat, start_lon = d['start_lat'], d['start_lon']\n",
    "        end_lat, end_lon = d['end_lat'], d['end_lon']\n",
    "        \n",
    "        url = f'{naver_api}start={start_lon},{start_lat}&goal={end_lon},{end_lat}'\n",
    "        res = requests.get(url, headers=naver_headers).json()\n",
    "        if res.get('code', 1) != 0: return {'code': 0}\n",
    "        \n",
    "        summary = res['route']['traoptimal'][0]['summary']\n",
    "        route = res['route']['traoptimal'][0]['path']\n",
    "        duration = summary['duration'] / 60000\n",
    "        \n",
    "        total_data.append({\n",
    "            'bus_type': 'prev_bus',\n",
    "            'start_station': start_station,\n",
    "            'end_station': end_station,\n",
    "            'route': route,\n",
    "            'duration': duration,\n",
    "            'direction': d['direction'],\n",
    "        })\n",
    "    return total_data"
   ]
  },
  {
   "cell_type": "code",
   "execution_count": 22,
   "metadata": {},
   "outputs": [],
   "source": [
    "total_path = get_route()\n",
    "\n",
    "with open('data/prev_bus/prev_bus_path.json', 'w', encoding='utf8') as f:\n",
    "    json.dump(total_path, f, ensure_ascii=False)"
   ]
  },
  {
   "attachments": {},
   "cell_type": "markdown",
   "metadata": {},
   "source": [
    "### 3. previous bus trip & timestamp"
   ]
  },
  {
   "cell_type": "code",
   "execution_count": 25,
   "metadata": {},
   "outputs": [],
   "source": [
    "with open('data/prev_bus/prev_bus_path.json', 'r', encoding='utf8') as f:\n",
    "    path = json.load(f)\n",
    "\n",
    "### previous bus schedule\n",
    "prev_bus_schedule = pd.read_csv('data/prev_bus/prev_bus_schedule.csv')"
   ]
  },
  {
   "cell_type": "code",
   "execution_count": 43,
   "metadata": {},
   "outputs": [],
   "source": [
    "def total_get_trip():\n",
    "    total_trip = []\n",
    "    for idx, prev_bus in prev_bus_schedule.groupby('버스_id'):\n",
    "        prev_bus_trip = []\n",
    "        prev_bus_timestamp = []\n",
    "        \n",
    "        for idx_, row in prev_bus.reset_index(drop=True).iterrows():\n",
    "            start_station, end_station = row['출발정류장'], row['도착정류장']\n",
    "            start_time_str = row['출발시간'].split(':')\n",
    "            start_time = int(start_time_str[0]) * 60 + int(start_time_str[1])\n",
    "            \n",
    "            route_data = list(filter(lambda x: x['start_station'] == start_station and x['end_station'] == end_station, path))[0]\n",
    "            routes, duration = route_data['route'], route_data['duration']\n",
    "            \n",
    "            if idx_ == 0:\n",
    "                timestamp = get_timestamp(routes, start_time, duration)\n",
    "            else:\n",
    "                timestamp = get_timestamp(routes, timestamp[-1], duration)\n",
    "                routes, timestamp = routes[1:], timestamp[1:]\n",
    "                \n",
    "            prev_bus_trip += routes\n",
    "            prev_bus_timestamp += timestamp\n",
    "        \n",
    "        total_trip.append({\n",
    "            'bus_id': idx,\n",
    "            'trip': prev_bus_trip,\n",
    "            'timestamp': prev_bus_timestamp,\n",
    "            'direction': route_data['direction']\n",
    "        })\n",
    "    return total_trip"
   ]
  },
  {
   "cell_type": "code",
   "execution_count": 44,
   "metadata": {},
   "outputs": [],
   "source": [
    "total_trip = total_get_trip()\n",
    "\n",
    "with open('data/prev_bus/prev_bus_trip.json', 'w') as f:\n",
    "    json.dump(total_trip, f)"
   ]
  }
 ],
 "metadata": {
  "kernelspec": {
   "display_name": "Python 3",
   "language": "python",
   "name": "python3"
  },
  "language_info": {
   "codemirror_mode": {
    "name": "ipython",
    "version": 3
   },
   "file_extension": ".py",
   "mimetype": "text/x-python",
   "name": "python",
   "nbconvert_exporter": "python",
   "pygments_lexer": "ipython3",
   "version": "3.8.10"
  },
  "orig_nbformat": 4
 },
 "nbformat": 4,
 "nbformat_minor": 2
}
