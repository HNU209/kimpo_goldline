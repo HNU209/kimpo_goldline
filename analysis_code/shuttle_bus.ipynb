{
 "cells": [
  {
   "cell_type": "code",
   "execution_count": 1,
   "metadata": {},
   "outputs": [],
   "source": [
    "from folium import Map, PolyLine\n",
    "import json\n",
    "\n",
    "try:\n",
    "    from routing_module import *\n",
    "except:\n",
    "    import sys\n",
    "    sys.path.append('/home/happy956/')\n",
    "    from routing_module import *"
   ]
  },
  {
   "attachments": {},
   "cell_type": "markdown",
   "metadata": {},
   "source": [
    "### 1. shuttle bus station"
   ]
  },
  {
   "cell_type": "code",
   "execution_count": 2,
   "metadata": {},
   "outputs": [],
   "source": [
    "data = [\n",
    "    {\n",
    "        'start_station': '양촌역',\n",
    "        'end_station': '더럭스나인',\n",
    "        'start_lat': 37.641973,\n",
    "        'start_lon': 126.614308,\n",
    "        'end_lat': 37.644226,\n",
    "        'end_lon': 126.618597,\n",
    "        'direction': 1\n",
    "    },\n",
    "    {\n",
    "        'start_station': '더럭스나인',\n",
    "        'end_station': '구래역',\n",
    "        'start_lat': 37.644226,\n",
    "        'start_lon': 126.618597,\n",
    "        'end_lat': 37.644496,\n",
    "        'end_lon': 126.627346,\n",
    "        'direction': 1\n",
    "    },\n",
    "    {\n",
    "        'start_station': '구래역',\n",
    "        'end_station': '디원시티',\n",
    "        'start_lat': 37.644496,\n",
    "        'start_lon': 126.627346,\n",
    "        'end_lat': 37.643415,\n",
    "        'end_lon': 126.618366,\n",
    "        'direction': 2\n",
    "    },\n",
    "    {\n",
    "        'start_station': '디원시티',\n",
    "        'end_station': '양촌역',\n",
    "        'start_lat': 37.643415,\n",
    "        'start_lon': 126.618366,\n",
    "        'end_lat': 37.641856,\n",
    "        'end_lon': 126.614282,\n",
    "        'direction': 2\n",
    "    },\n",
    "]"
   ]
  },
  {
   "cell_type": "code",
   "execution_count": 3,
   "metadata": {},
   "outputs": [],
   "source": [
    "with open('data/shuttle_bus/shuttle_bus_station.json', 'w', encoding='utf8') as f:\n",
    "    json.dump(data, f, indent=4, ensure_ascii=False)"
   ]
  },
  {
   "attachments": {},
   "cell_type": "markdown",
   "metadata": {},
   "source": [
    "### 2. shuttle bus path"
   ]
  },
  {
   "cell_type": "code",
   "execution_count": 14,
   "metadata": {},
   "outputs": [],
   "source": [
    "def get_total_path(data, direction):\n",
    "    total_routes = []\n",
    "    first, second = data[0], data[1]\n",
    "    \n",
    "    if direction == 'gurae':\n",
    "        start_lon, start_lat = first['start_lon'], first['start_lat']\n",
    "        end_lon, end_lat = first['end_lon'], first['end_lat']\n",
    "        routes, _, _ = osrm_get_route((start_lon, start_lat, end_lon, end_lat))\n",
    "        total_routes += routes\n",
    "        \n",
    "        start_lon, start_lat = second['start_lon'], second['start_lat']\n",
    "        end_lon, end_lat = [126.619992, 37.644998]\n",
    "        routes, _, _ = osrm_get_route((start_lon, start_lat, end_lon, end_lat))\n",
    "        total_routes += routes[1:]\n",
    "        \n",
    "        start_lon, start_lat = [126.619992, 37.644998]\n",
    "        end_lon, end_lat = second['end_lon'], second['end_lat']\n",
    "        routes, _, _ = osrm_get_route((start_lon, start_lat, end_lon, end_lat))\n",
    "        total_routes += routes[1:]\n",
    "    \n",
    "    elif direction == 'yongchon':\n",
    "        start_lon, start_lat = first['start_lon'], first['start_lat']\n",
    "        end_lon, end_lat = [126.627718, 37.643462]\n",
    "        routes, _, _ = osrm_get_route((start_lon, start_lat, end_lon, end_lat))\n",
    "        total_routes += routes\n",
    "        \n",
    "        start_lon, start_lat = [126.627718, 37.643462]\n",
    "        end_lon, end_lat = [126.621685, 37.639407]\n",
    "        routes, _, _ = osrm_get_route((start_lon, start_lat, end_lon, end_lat))\n",
    "        total_routes += routes[1:]\n",
    "        \n",
    "        start_lon, start_lat = [126.621685, 37.639407]\n",
    "        end_lon, end_lat = first['end_lon'], first['end_lat']\n",
    "        routes, _, _ = osrm_get_route((start_lon, start_lat, end_lon, end_lat))\n",
    "        total_routes += routes[1:]\n",
    "        \n",
    "        start_lon, start_lat = second['start_lon'], second['start_lat']\n",
    "        end_lon, end_lat = second['end_lon'], second['end_lat']\n",
    "        routes, _, _ = osrm_get_route((start_lon, start_lat, end_lon, end_lat))\n",
    "        total_routes += routes[1:]\n",
    "    \n",
    "    return total_routes"
   ]
  },
  {
   "cell_type": "code",
   "execution_count": 15,
   "metadata": {},
   "outputs": [],
   "source": [
    "with open('data/shuttle_bus/shuttle_bus_station.json', 'r', encoding='utf8') as f:\n",
    "    data = json.load(f)\n",
    "\n",
    "gurae_direction = list(filter(lambda x: x['direction'] == 1, data))\n",
    "yongchon_direction = list(filter(lambda x: x['direction'] == 2, data))"
   ]
  },
  {
   "cell_type": "code",
   "execution_count": 16,
   "metadata": {},
   "outputs": [
    {
     "name": "stdout",
     "output_type": "stream",
     "text": [
      "93.0\n",
      "57.0\n",
      "81.60000000000001\n"
     ]
    },
    {
     "data": {
      "text/html": [
       "<div style=\"width:100%;\"><div style=\"position:relative;width:100%;height:0;padding-bottom:60%;\"><span style=\"color:#565656\">Make this Notebook Trusted to load map: File -> Trust Notebook</span><iframe srcdoc=\"&lt;!DOCTYPE html&gt;\n",
       "&lt;html&gt;\n",
       "&lt;head&gt;\n",
       "    \n",
       "    &lt;meta http-equiv=&quot;content-type&quot; content=&quot;text/html; charset=UTF-8&quot; /&gt;\n",
       "    \n",
       "        &lt;script&gt;\n",
       "            L_NO_TOUCH = false;\n",
       "            L_DISABLE_3D = false;\n",
       "        &lt;/script&gt;\n",
       "    \n",
       "    &lt;style&gt;html, body {width: 100%;height: 100%;margin: 0;padding: 0;}&lt;/style&gt;\n",
       "    &lt;style&gt;#map {position:absolute;top:0;bottom:0;right:0;left:0;}&lt;/style&gt;\n",
       "    &lt;script src=&quot;https://cdn.jsdelivr.net/npm/leaflet@1.9.3/dist/leaflet.js&quot;&gt;&lt;/script&gt;\n",
       "    &lt;script src=&quot;https://code.jquery.com/jquery-1.12.4.min.js&quot;&gt;&lt;/script&gt;\n",
       "    &lt;script src=&quot;https://cdn.jsdelivr.net/npm/bootstrap@5.2.2/dist/js/bootstrap.bundle.min.js&quot;&gt;&lt;/script&gt;\n",
       "    &lt;script src=&quot;https://cdnjs.cloudflare.com/ajax/libs/Leaflet.awesome-markers/2.0.2/leaflet.awesome-markers.js&quot;&gt;&lt;/script&gt;\n",
       "    &lt;link rel=&quot;stylesheet&quot; href=&quot;https://cdn.jsdelivr.net/npm/leaflet@1.9.3/dist/leaflet.css&quot;/&gt;\n",
       "    &lt;link rel=&quot;stylesheet&quot; href=&quot;https://cdn.jsdelivr.net/npm/bootstrap@5.2.2/dist/css/bootstrap.min.css&quot;/&gt;\n",
       "    &lt;link rel=&quot;stylesheet&quot; href=&quot;https://netdna.bootstrapcdn.com/bootstrap/3.0.0/css/bootstrap.min.css&quot;/&gt;\n",
       "    &lt;link rel=&quot;stylesheet&quot; href=&quot;https://cdn.jsdelivr.net/npm/@fortawesome/fontawesome-free@6.2.0/css/all.min.css&quot;/&gt;\n",
       "    &lt;link rel=&quot;stylesheet&quot; href=&quot;https://cdnjs.cloudflare.com/ajax/libs/Leaflet.awesome-markers/2.0.2/leaflet.awesome-markers.css&quot;/&gt;\n",
       "    &lt;link rel=&quot;stylesheet&quot; href=&quot;https://cdn.jsdelivr.net/gh/python-visualization/folium/folium/templates/leaflet.awesome.rotate.min.css&quot;/&gt;\n",
       "    \n",
       "            &lt;meta name=&quot;viewport&quot; content=&quot;width=device-width,\n",
       "                initial-scale=1.0, maximum-scale=1.0, user-scalable=no&quot; /&gt;\n",
       "            &lt;style&gt;\n",
       "                #map_203e5063f441d96035d4a751c0b8a566 {\n",
       "                    position: relative;\n",
       "                    width: 100.0%;\n",
       "                    height: 100.0%;\n",
       "                    left: 0.0%;\n",
       "                    top: 0.0%;\n",
       "                }\n",
       "                .leaflet-container { font-size: 1rem; }\n",
       "            &lt;/style&gt;\n",
       "        \n",
       "&lt;/head&gt;\n",
       "&lt;body&gt;\n",
       "    \n",
       "    \n",
       "            &lt;div class=&quot;folium-map&quot; id=&quot;map_203e5063f441d96035d4a751c0b8a566&quot; &gt;&lt;/div&gt;\n",
       "        \n",
       "&lt;/body&gt;\n",
       "&lt;script&gt;\n",
       "    \n",
       "    \n",
       "            var map_203e5063f441d96035d4a751c0b8a566 = L.map(\n",
       "                &quot;map_203e5063f441d96035d4a751c0b8a566&quot;,\n",
       "                {\n",
       "                    center: [37.643, 126.617],\n",
       "                    crs: L.CRS.EPSG3857,\n",
       "                    zoom: 16,\n",
       "                    zoomControl: true,\n",
       "                    preferCanvas: false,\n",
       "                }\n",
       "            );\n",
       "\n",
       "            \n",
       "\n",
       "        \n",
       "    \n",
       "            var tile_layer_ab7399184e4502873bc6a481c71bac9e = L.tileLayer(\n",
       "                &quot;https://{s}.tile.openstreetmap.org/{z}/{x}/{y}.png&quot;,\n",
       "                {&quot;attribution&quot;: &quot;Data by \\u0026copy; \\u003ca target=\\&quot;_blank\\&quot; href=\\&quot;http://openstreetmap.org\\&quot;\\u003eOpenStreetMap\\u003c/a\\u003e, under \\u003ca target=\\&quot;_blank\\&quot; href=\\&quot;http://www.openstreetmap.org/copyright\\&quot;\\u003eODbL\\u003c/a\\u003e.&quot;, &quot;detectRetina&quot;: false, &quot;maxNativeZoom&quot;: 18, &quot;maxZoom&quot;: 18, &quot;minZoom&quot;: 0, &quot;noWrap&quot;: false, &quot;opacity&quot;: 1, &quot;subdomains&quot;: &quot;abc&quot;, &quot;tms&quot;: false}\n",
       "            ).addTo(map_203e5063f441d96035d4a751c0b8a566);\n",
       "        \n",
       "    \n",
       "            var poly_line_7556adc3c3fa8a41b7ff8a12c7e45519 = L.polyline(\n",
       "                [[37.64196, 126.61427], [37.64211, 126.61416], [37.64232, 126.61402], [37.6424, 126.6142], [37.64246, 126.61428], [37.64254, 126.61434], [37.64263, 126.61439], [37.64274, 126.61449], [37.64284, 126.61463], [37.64293, 126.61484], [37.64297, 126.61504], [37.64305, 126.61597], [37.6431, 126.61653], [37.64318, 126.61735], [37.64325, 126.61809], [37.64337, 126.61873], [37.64409, 126.61851], [37.6442, 126.61847], [37.64522, 126.61815], [37.64573, 126.61798], [37.64586, 126.61825], [37.64629, 126.61891], [37.64637, 126.6192], [37.64638, 126.61927], [37.64638, 126.61935], [37.64635, 126.61939], [37.6463, 126.61945], [37.64618, 126.61955], [37.64512, 126.61988], [37.64495, 126.61994], [37.64496, 126.62], [37.64519, 126.62116], [37.64545, 126.62248], [37.64573, 126.6239], [37.64604, 126.62545], [37.64607, 126.62561], [37.6459, 126.62567], [37.64564, 126.62576], [37.64549, 126.62582], [37.64553, 126.62602], [37.64574, 126.62708], [37.6451, 126.62728], [37.64462, 126.62744], [37.64458, 126.62745], [37.64452, 126.62747]],\n",
       "                {&quot;bubblingMouseEvents&quot;: true, &quot;color&quot;: &quot;blue&quot;, &quot;dashArray&quot;: null, &quot;dashOffset&quot;: null, &quot;fill&quot;: false, &quot;fillColor&quot;: &quot;blue&quot;, &quot;fillOpacity&quot;: 0.2, &quot;fillRule&quot;: &quot;evenodd&quot;, &quot;lineCap&quot;: &quot;round&quot;, &quot;lineJoin&quot;: &quot;round&quot;, &quot;noClip&quot;: false, &quot;opacity&quot;: 1.0, &quot;smoothFactor&quot;: 1.0, &quot;stroke&quot;: true, &quot;weight&quot;: 3}\n",
       "            ).addTo(map_203e5063f441d96035d4a751c0b8a566);\n",
       "        \n",
       "    \n",
       "            var poly_line_99fb856ab68d53d63a40cb89d7cdc1cf = L.polyline(\n",
       "                [[37.64452, 126.62747], [37.64402, 126.62762], [37.64395, 126.62765], [37.64362, 126.62775], [37.64344, 126.62781], [37.64343, 126.62773], [37.64336, 126.62736], [37.64307, 126.62593], [37.64304, 126.62577], [37.64254, 126.62324], [37.64239, 126.62251], [37.64211, 126.62111], [37.64206, 126.62085], [37.6419, 126.6209], [37.63941, 126.62169], [37.63926, 126.62174], [37.63912, 126.6211], [37.63912, 126.62084], [37.63917, 126.62063], [37.63924, 126.62042], [37.63935, 126.62023], [37.63948, 126.62008], [37.63961, 126.61997], [37.63975, 126.6199], [37.63995, 126.61982], [37.64044, 126.61966], [37.642, 126.61917], [37.64337, 126.61873], [37.64331, 126.6184], [37.64325, 126.61809], [37.64318, 126.61735], [37.6431, 126.61653], [37.64305, 126.61597], [37.64297, 126.61504], [37.64293, 126.61484], [37.64284, 126.61463], [37.64274, 126.61449], [37.64263, 126.61439], [37.64254, 126.61434], [37.64246, 126.61428], [37.6424, 126.6142], [37.64232, 126.61402], [37.64211, 126.61416], [37.64188, 126.61433]],\n",
       "                {&quot;bubblingMouseEvents&quot;: true, &quot;color&quot;: &quot;red&quot;, &quot;dashArray&quot;: null, &quot;dashOffset&quot;: null, &quot;fill&quot;: false, &quot;fillColor&quot;: &quot;red&quot;, &quot;fillOpacity&quot;: 0.2, &quot;fillRule&quot;: &quot;evenodd&quot;, &quot;lineCap&quot;: &quot;round&quot;, &quot;lineJoin&quot;: &quot;round&quot;, &quot;noClip&quot;: false, &quot;opacity&quot;: 1.0, &quot;smoothFactor&quot;: 1.0, &quot;stroke&quot;: true, &quot;weight&quot;: 3}\n",
       "            ).addTo(map_203e5063f441d96035d4a751c0b8a566);\n",
       "        \n",
       "&lt;/script&gt;\n",
       "&lt;/html&gt;\" style=\"position:absolute;width:100%;height:100%;left:0;top:0;border:none !important;\" allowfullscreen webkitallowfullscreen mozallowfullscreen></iframe></div></div>"
      ],
      "text/plain": [
       "<folium.folium.Map at 0x7f8e0f03f640>"
      ]
     },
     "execution_count": 16,
     "metadata": {},
     "output_type": "execute_result"
    }
   ],
   "source": [
    "m = Map(location=[37.643, 126.617], zoom_start=16)\n",
    "\n",
    "gurae_direction_path = get_total_path(gurae_direction, 'gurae')\n",
    "PolyLine(locations=gurae_direction_path, color='blue').add_to(m)\n",
    "\n",
    "yongchon_direction_path = get_total_path(yongchon_direction, 'yongchon')\n",
    "PolyLine(locations=yongchon_direction_path, color='red').add_to(m)\n",
    "\n",
    "m    "
   ]
  },
  {
   "cell_type": "code",
   "execution_count": 7,
   "metadata": {},
   "outputs": [],
   "source": [
    "with open('data/shuttle_bus/shuttle_bus_path.json', 'w') as f:\n",
    "    total_path = [\n",
    "        {\n",
    "            'direction': 1,\n",
    "            'route': list(map(lambda x: x[::-1], gurae_direction_path)),\n",
    "        },\n",
    "        {\n",
    "            'direction': 2,\n",
    "            'route': list(map(lambda x: x[::-1], yongchon_direction_path)),\n",
    "        },\n",
    "    ]\n",
    "    json.dump(total_path, f)"
   ]
  },
  {
   "attachments": {},
   "cell_type": "markdown",
   "metadata": {},
   "source": [
    "### 3. extract trip & timestamp"
   ]
  },
  {
   "cell_type": "code",
   "execution_count": 17,
   "metadata": {},
   "outputs": [],
   "source": [
    "with open('data/shuttle_bus/shuttle_bus_path.json', 'r') as f:\n",
    "    path = json.load(f)"
   ]
  },
  {
   "cell_type": "code",
   "execution_count": 19,
   "metadata": {},
   "outputs": [],
   "source": [
    "gurae_direction_path = list(filter(lambda x: x['direction'] == 1, path))[0]\n",
    "yongchon_direction_path = list(filter(lambda x: x['direction'] == 2, path))[0]"
   ]
  },
  {
   "cell_type": "code",
   "execution_count": 44,
   "metadata": {},
   "outputs": [],
   "source": [
    "## gurae direction\n",
    "gurae_trip_data = []\n",
    "yongchon_trip_data = []\n",
    "\n",
    "for idx, t in enumerate(np.arange(420, 480 + 55 + 1, 5)):\n",
    "    routes = gurae_direction_path['route']\n",
    "    timestamp = get_timestamp(routes, t, 7)\n",
    "    timestamp = [float(x) for x in timestamp]\n",
    "    gurae_trip_data.append({\n",
    "        'id': idx,\n",
    "        'trip': routes,\n",
    "        'timestamp': timestamp,\n",
    "        'direction': 1\n",
    "    })\n",
    "\n",
    "for idx, t in enumerate(np.arange(420, 480 + 55 + 1, 5)):\n",
    "    routes = yongchon_direction_path['route']\n",
    "    timestamp = get_timestamp(routes, t, 7)\n",
    "    timestamp = [float(x) for x in timestamp]\n",
    "    yongchon_trip_data.append({\n",
    "        'id': idx,\n",
    "        'trip': routes,\n",
    "        'timestamp': timestamp,\n",
    "        'direction': 2\n",
    "    })\n",
    "\n",
    "with open('data/shuttle_bus/shuttle_bus_trip.json', 'w') as f:\n",
    "    total_trip = gurae_trip_data + yongchon_trip_data\n",
    "    # display(total_trip)\n",
    "    json.dump(total_trip, f)"
   ]
  }
 ],
 "metadata": {
  "kernelspec": {
   "display_name": "Python 3",
   "language": "python",
   "name": "python3"
  },
  "language_info": {
   "codemirror_mode": {
    "name": "ipython",
    "version": 3
   },
   "file_extension": ".py",
   "mimetype": "text/x-python",
   "name": "python",
   "nbconvert_exporter": "python",
   "pygments_lexer": "ipython3",
   "version": "3.8.10"
  },
  "orig_nbformat": 4
 },
 "nbformat": 4,
 "nbformat_minor": 2
}
