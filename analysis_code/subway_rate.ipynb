{
 "cells": [
  {
   "cell_type": "code",
   "execution_count": 1,
   "metadata": {},
   "outputs": [],
   "source": [
    "import pandas as pd\n",
    "import json"
   ]
  },
  {
   "attachments": {},
   "cell_type": "markdown",
   "metadata": {},
   "source": [
    "### 1. 스마트 카드 데이터 (7일)"
   ]
  },
  {
   "cell_type": "code",
   "execution_count": 2,
   "metadata": {},
   "outputs": [],
   "source": [
    "df = pd.read_csv('data/kimpo_0825_0831.csv')\n",
    "\n",
    "with open('data/subway/subway_station.json', 'r') as f:\n",
    "    stations = json.load(f)"
   ]
  },
  {
   "cell_type": "code",
   "execution_count": 3,
   "metadata": {},
   "outputs": [
    {
     "data": {
      "text/plain": [
       "Index(['Unnamed: 0.1', 'Unnamed: 0', '승차일시', '하차일시', '차이시간', '교통수단코드', '이용자수',\n",
       "       '이용거리', '탑승시간', '승차정류장ID', '하차정류장ID', '승차지역코드', '하차지역코드', '운행일자_x',\n",
       "       '노선 ID_승차', '노선 명칭_승차', '정류장 순번_승차', '정류장 ID_승차', '정류장 명칭_승차',\n",
       "       '정류장 X 좌표_승차', '정류장 Y 좌표_승차', '노선 누적 거리_승차', '정류장 거리_승차', '노선 ID_하차',\n",
       "       '노선 명칭_하차', '정류장 순번_하차', '정류장 ID_하차', '정류장 명칭_하차', '정류장 X 좌표_하차',\n",
       "       '정류장 Y 좌표_하차', '노선 누적 거리_하차', '정류장 거리_하차', '교통수단구분(B:버스,T:지하철)'],\n",
       "      dtype='object')"
      ]
     },
     "execution_count": 3,
     "metadata": {},
     "output_type": "execute_result"
    }
   ],
   "source": [
    "df.columns"
   ]
  },
  {
   "attachments": {},
   "cell_type": "markdown",
   "metadata": {},
   "source": [
    "### 2. subway vs bus rate"
   ]
  },
  {
   "cell_type": "code",
   "execution_count": 4,
   "metadata": {},
   "outputs": [
    {
     "data": {
      "text/plain": [
       "((72489, 2), (5298, 2))"
      ]
     },
     "execution_count": 4,
     "metadata": {},
     "output_type": "execute_result"
    }
   ],
   "source": [
    "subway_cond1 = df['노선 명칭_승차'] == '김포골드라인'\n",
    "subway_cond2 = df['노선 명칭_하차'] == '김포골드라인'\n",
    "\n",
    "bus_cond1 = df['노선 명칭_승차'] == '70'\n",
    "bus_cond2 = df['노선 명칭_하차'] == '70'\n",
    "\n",
    "subway_df = df.loc[subway_cond1 & subway_cond2, ['정류장 명칭_승차', '정류장 명칭_하차']]\n",
    "bus_df = df.loc[bus_cond1 & bus_cond2, ['정류장 명칭_승차', '정류장 명칭_하차']]\n",
    "\n",
    "subway_df = subway_df.loc[subway_df['정류장 명칭_승차'] != subway_df['정류장 명칭_하차']]\n",
    "bus_df = bus_df.loc[bus_df['정류장 명칭_승차'] != bus_df['정류장 명칭_하차']]\n",
    "\n",
    "subway_df.shape, bus_df.shape"
   ]
  },
  {
   "cell_type": "code",
   "execution_count": 5,
   "metadata": {},
   "outputs": [
    {
     "data": {
      "text/plain": [
       "(93.2, 6.8)"
      ]
     },
     "execution_count": 5,
     "metadata": {},
     "output_type": "execute_result"
    }
   ],
   "source": [
    "subway_rate = round(len(subway_df) / (len(subway_df) + len(bus_df)) * 100, 1)\n",
    "bus_rate = round(len(bus_df) / (len(subway_df) + len(bus_df)) * 100, 1)\n",
    "\n",
    "subway_rate, bus_rate"
   ]
  },
  {
   "attachments": {},
   "cell_type": "markdown",
   "metadata": {},
   "source": [
    "### 3. 지하철 O-D 비율"
   ]
  },
  {
   "cell_type": "code",
   "execution_count": 6,
   "metadata": {},
   "outputs": [],
   "source": [
    "def get_station_name(stations, direction):\n",
    "    station_names = []\n",
    "    filtered_stations = list(filter(lambda x: x['direction'] == direction, stations))\n",
    "    for idx, station in enumerate(filtered_stations):\n",
    "        station_names.append({\n",
    "            'station_name': station['start_station'],\n",
    "            'direction': station['direction']\n",
    "        })\n",
    "        \n",
    "        if idx == len(filtered_stations) - 1:\n",
    "            station_names.append({\n",
    "                'station_name': station['end_station'],\n",
    "                'direction': station['direction']\n",
    "            })\n",
    "    return station_names"
   ]
  },
  {
   "cell_type": "code",
   "execution_count": 7,
   "metadata": {},
   "outputs": [],
   "source": [
    "total_station_names = get_station_name(stations, 1) + get_station_name(stations, 2)"
   ]
  },
  {
   "cell_type": "code",
   "execution_count": 8,
   "metadata": {},
   "outputs": [],
   "source": [
    "def find_direction(row):\n",
    "    data = row.to_dict()\n",
    "    d1_station_name_lst = list(filter(lambda x: x['direction'] == 1, total_station_names))\n",
    "    first_index = [i for i, v in enumerate(d1_station_name_lst) if v['station_name'] == data['정류장 명칭_승차']][0]\n",
    "    end_index = [i for i, v in enumerate(d1_station_name_lst) if v['station_name'] == data['정류장 명칭_하차']][0]\n",
    "    if first_index < end_index:\n",
    "        return '1'\n",
    "    else:\n",
    "        return '2'"
   ]
  },
  {
   "cell_type": "code",
   "execution_count": 9,
   "metadata": {},
   "outputs": [],
   "source": [
    "subway_station_value_count = subway_df.value_counts().reset_index(name='count')\n",
    "subway_station_value_count['rate'] = subway_station_value_count['count'].map(lambda x: round(x / subway_station_value_count['count'].sum() * 100, 2)) / 100\n",
    "subway_station_value_count['direction'] = subway_station_value_count.apply(find_direction, axis=1)"
   ]
  },
  {
   "cell_type": "code",
   "execution_count": 10,
   "metadata": {},
   "outputs": [],
   "source": [
    "subway_station_value_count.to_csv('data/passenger/subway_rate.csv', index=None)"
   ]
  }
 ],
 "metadata": {
  "kernelspec": {
   "display_name": "Python 3",
   "language": "python",
   "name": "python3"
  },
  "language_info": {
   "codemirror_mode": {
    "name": "ipython",
    "version": 3
   },
   "file_extension": ".py",
   "mimetype": "text/x-python",
   "name": "python",
   "nbconvert_exporter": "python",
   "pygments_lexer": "ipython3",
   "version": "3.8.10"
  },
  "orig_nbformat": 4
 },
 "nbformat": 4,
 "nbformat_minor": 2
}
